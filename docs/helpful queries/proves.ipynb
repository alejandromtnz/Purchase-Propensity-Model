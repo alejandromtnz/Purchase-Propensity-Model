{
 "cells": [
  {
   "cell_type": "code",
   "execution_count": null,
   "metadata": {
    "vscode": {
     "languageId": "plaintext"
    }
   },
   "outputs": [],
   "source": [
    "import missingno as msno \n",
    "msno.matrix(data)"
   ]
  },
  {
   "cell_type": "markdown",
   "metadata": {},
   "source": [
    "# inferir en que renta tiene una persona dependiendo de otras variables con regresion lineal"
   ]
  },
  {
   "cell_type": "code",
   "execution_count": null,
   "metadata": {
    "vscode": {
     "languageId": "plaintext"
    }
   },
   "outputs": [],
   "source": [
    "# Obtener las importancias de las características y sus nombres\n",
    "importances = data.feature_importances_\n",
    "features = X.columns\n",
    "\n",
    "# Ordenar las importancias en orden descendente\n",
    "indices = np.argsort(importances)[::-1]\n",
    "\n",
    "# Crear el gráfico\n",
    "plt.figure(figsize=(10, 6))\n",
    "plt.bar(range(X.shape[1]), importances[indices], align='center')\n",
    "plt.xticks(range(X.shape[1]), features[indices], rotation=90)\n",
    "plt.xlabel('Características')\n",
    "plt.ylabel('Importancia')\n",
    "plt.title('Importancia de las características en el modelo Random Forest')\n",
    "plt.tight_layout()\n",
    "plt.show()"
   ]
  },
  {
   "cell_type": "markdown",
   "metadata": {},
   "source": [
    "# por ejemplo en renta ordenarla en encoder de numeros de menos a mas"
   ]
  },
  {
   "cell_type": "markdown",
   "metadata": {},
   "source": [
    "# juntar variables que sean iguales o quitar useless"
   ]
  },
  {
   "cell_type": "code",
   "execution_count": null,
   "metadata": {
    "vscode": {
     "languageId": "plaintext"
    }
   },
   "outputs": [],
   "source": [
    "import tfrandomforest # grtafica con criterio"
   ]
  }
 ],
 "metadata": {
  "language_info": {
   "name": "python"
  }
 },
 "nbformat": 4,
 "nbformat_minor": 2
}
